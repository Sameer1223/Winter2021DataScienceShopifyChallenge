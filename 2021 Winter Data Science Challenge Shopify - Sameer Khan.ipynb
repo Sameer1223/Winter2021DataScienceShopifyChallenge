{
 "cells": [
  {
   "cell_type": "markdown",
   "metadata": {},
   "source": [
    "# Shopify Winter 2021 Data Science Challenge"
   ]
  },
  {
   "cell_type": "markdown",
   "metadata": {},
   "source": [
    "First, we must load in the data to further analyze why the Average Order Value is abnormally high."
   ]
  },
  {
   "cell_type": "code",
   "execution_count": 1,
   "metadata": {
    "collapsed": true
   },
   "outputs": [],
   "source": [
    "#Import Libraries\n",
    "import numpy as np\n",
    "import pandas as pd\n",
    "import matplotlib.pyplot as plt\n",
    "\n",
    "#Load the dataset using pandas\n",
    "dataset = pd.read_csv('2019 Winter Data Science Intern Challenge Data Set - Sheet1.csv')"
   ]
  },
  {
   "cell_type": "markdown",
   "metadata": {},
   "source": [
    "To start it would be best to visualize the data to understand where the discrepancies may be and what is causing the increase in AOV. The data may potentially be skewed due to outliers in the data which we could further analyze if this is the case."
   ]
  },
  {
   "cell_type": "code",
   "execution_count": 2,
   "metadata": {},
   "outputs": [
    {
     "data": {
      "image/png": "[encoded data removed]",
      "text/plain": [
       "<matplotlib.figure.Figure at 0x1f5bfddf9e8>"
      ]
     },
     "metadata": {},
     "output_type": "display_data"
    }
   ],
   "source": [
    "#Plot the order amount of each order\n",
    "df = dataset.groupby('order_id')['order_amount'].agg(['sum'])\n",
    "df = df.reset_index()\n",
    "plt.plot(df['order_id'], df['sum'], 'ro')\n",
    "plt.xlabel('Orders')\n",
    "plt.ylabel('Amount')\n",
    "plt.show()"
   ]
  },
  {
   "cell_type": "markdown",
   "metadata": {},
   "source": [
    "Already we can see that most of the orders sit around a lower value where the line is formed. We can see a few larger numbers above the line, but it doesn't seem too much as an outlier. The top of the graph though, shows us a consistently high order_amount repeated multiple times. This could potentially be the outlier which is skewing the data.\n",
    "\n",
    "We could look into this further and see the total items being purchased in each order to see if any inconsistency in the data exists. We will find the orders where the amount was abnormally large."
   ]
  },
  {
   "cell_type": "code",
   "execution_count": 3,
   "metadata": {},
   "outputs": [
    {
     "name": "stdout",
     "output_type": "stream",
     "text": [
      "704000\n"
     ]
    }
   ],
   "source": [
    "#Find max of order amount column\n",
    "print(dataset['order_amount'].max())"
   ]
  },
  {
   "cell_type": "markdown",
   "metadata": {},
   "source": [
    "We find the maximum value of the order_amount column and want to find other related information about this column and see if it repeats based on what we know from the graph above."
   ]
  },
  {
   "cell_type": "code",
   "execution_count": 4,
   "metadata": {},
   "outputs": [
    {
     "name": "stdout",
     "output_type": "stream",
     "text": [
      "      order_id  shop_id  user_id  order_amount  total_items payment_method  \\\n",
      "15          16       42      607        704000         2000    credit_card   \n",
      "60          61       42      607        704000         2000    credit_card   \n",
      "520        521       42      607        704000         2000    credit_card   \n",
      "1104      1105       42      607        704000         2000    credit_card   \n",
      "1362      1363       42      607        704000         2000    credit_card   \n",
      "1436      1437       42      607        704000         2000    credit_card   \n",
      "1562      1563       42      607        704000         2000    credit_card   \n",
      "1602      1603       42      607        704000         2000    credit_card   \n",
      "2153      2154       42      607        704000         2000    credit_card   \n",
      "2297      2298       42      607        704000         2000    credit_card   \n",
      "2835      2836       42      607        704000         2000    credit_card   \n",
      "2969      2970       42      607        704000         2000    credit_card   \n",
      "3332      3333       42      607        704000         2000    credit_card   \n",
      "4056      4057       42      607        704000         2000    credit_card   \n",
      "4646      4647       42      607        704000         2000    credit_card   \n",
      "4868      4869       42      607        704000         2000    credit_card   \n",
      "4882      4883       42      607        704000         2000    credit_card   \n",
      "\n",
      "              created_at  \n",
      "15    2017-03-07 4:00:00  \n",
      "60    2017-03-04 4:00:00  \n",
      "520   2017-03-02 4:00:00  \n",
      "1104  2017-03-24 4:00:00  \n",
      "1362  2017-03-15 4:00:00  \n",
      "1436  2017-03-11 4:00:00  \n",
      "1562  2017-03-19 4:00:00  \n",
      "1602  2017-03-17 4:00:00  \n",
      "2153  2017-03-12 4:00:00  \n",
      "2297  2017-03-07 4:00:00  \n",
      "2835  2017-03-28 4:00:00  \n",
      "2969  2017-03-28 4:00:00  \n",
      "3332  2017-03-24 4:00:00  \n",
      "4056  2017-03-28 4:00:00  \n",
      "4646  2017-03-02 4:00:00  \n",
      "4868  2017-03-22 4:00:00  \n",
      "4882  2017-03-25 4:00:00  \n"
     ]
    }
   ],
   "source": [
    "#Find the row(s) that have order_amount = 704000\n",
    "skewedData = dataset.loc[dataset['order_amount'] == 704000]\n",
    "print(skewedData)"
   ]
  },
  {
   "cell_type": "markdown",
   "metadata": {},
   "source": [
    "We confirm that these orders are identical in terms of order amount, total items, shop ID, and user ID. This confirms that this data is identical and there is some issue with this data. We can also look at the total item discrepancy to see another abnormal value."
   ]
  },
  {
   "cell_type": "code",
   "execution_count": 5,
   "metadata": {},
   "outputs": [
    {
     "name": "stdout",
     "output_type": "stream",
     "text": [
      "1       1830\n",
      "2       1832\n",
      "3        941\n",
      "4        293\n",
      "5         77\n",
      "6          9\n",
      "8          1\n",
      "2000      17\n",
      "Name: total_items, dtype: int64\n"
     ]
    }
   ],
   "source": [
    "#Count occurences of total item counts\n",
    "print(dataset['total_items'].value_counts().sort_index())"
   ]
  },
  {
   "cell_type": "markdown",
   "metadata": {},
   "source": [
    "We see that common values range from 1 - 4, with some orders a few numbers above. We see a huge jump from 8 orders to 2000 though which explains why there may be this discrepancy. "
   ]
  },
  {
   "cell_type": "code",
   "execution_count": 6,
   "metadata": {},
   "outputs": [
    {
     "name": "stdout",
     "output_type": "stream",
     "text": [
      "42    17\n",
      "Name: shop_id, dtype: int64\n",
      "607    17\n",
      "Name: user_id, dtype: int64\n"
     ]
    }
   ],
   "source": [
    "orderAmountSkewed = dataset.loc[dataset['total_items'] == 2000]\n",
    "print(orderAmountSkewed['shop_id'].value_counts().sort_index())\n",
    "print(orderAmountSkewed['user_id'].value_counts().sort_index())"
   ]
  },
  {
   "cell_type": "markdown",
   "metadata": {},
   "source": [
    "Finally we see that the shop id and the user id are also the same across all transactions at this value, which singles it out giving us a red flag in the data."
   ]
  },
  {
   "cell_type": "markdown",
   "metadata": {},
   "source": [
    "QUESTION 1.A)\n",
    "There are 17 orders where 2000 items are being purchased. This is a repeated value signalling a red flag with this transcation. This could be a mistake, automated, financial scheme, etc. and this is heavily skewing the data which gives us the high AOV."
   ]
  },
  {
   "cell_type": "markdown",
   "metadata": {},
   "source": [
    "QUESTION 1.B)\n",
    "Since we know that the average is heavily skewed we could take the median instead giving us a more accurate representation of the value. It will provide a value that sits in the middle and is not heavily influenced by a skewed piece of data.\n",
    "\n",
    "We could also potentially remove the newly found outlier for a better AOV calculation."
   ]
  },
  {
   "cell_type": "code",
   "execution_count": 7,
   "metadata": {},
   "outputs": [
    {
     "name": "stdout",
     "output_type": "stream",
     "text": [
      "AOV = 754.0919125025085\n"
     ]
    }
   ],
   "source": [
    "removedOutliers = dataset[dataset.total_items != 2000]\n",
    "orderAmount = removedOutliers['order_amount'].mean()\n",
    "print(\"AOV = \" + str(orderAmount))"
   ]
  },
  {
   "cell_type": "markdown",
   "metadata": {},
   "source": [
    "With our outliers removed we have a better looking AOV, but the MEDIAN still seems like a better option."
   ]
  },
  {
   "cell_type": "markdown",
   "metadata": {},
   "source": [
    "Question 1.C)"
   ]
  },
  {
   "cell_type": "code",
   "execution_count": 8,
   "metadata": {},
   "outputs": [
    {
     "name": "stdout",
     "output_type": "stream",
     "text": [
      "284.0\n"
     ]
    }
   ],
   "source": [
    "print(dataset.loc[:, 'order_amount'].median())"
   ]
  },
  {
   "cell_type": "markdown",
   "metadata": {},
   "source": [
    "Therefore our MEDIAN would be 284.0 which definitely seems to give a better representation of the value of the products."
   ]
  }
 ],
 "metadata": {
  "kernelspec": {
   "display_name": "Python 3",
   "language": "python",
   "name": "python3"
  },
  "language_info": {
   "codemirror_mode": {
    "name": "ipython",
    "version": 3
   },
   "file_extension": ".py",
   "mimetype": "text/x-python",
   "name": "python",
   "nbconvert_exporter": "python",
   "pygments_lexer": "ipython3",
   "version": "3.6.1"
  }
 },
 "nbformat": 4,
 "nbformat_minor": 2
}
